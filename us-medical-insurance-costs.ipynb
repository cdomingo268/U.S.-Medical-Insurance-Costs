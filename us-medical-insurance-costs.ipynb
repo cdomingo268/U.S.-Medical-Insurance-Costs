{
 "cells": [
  {
   "cell_type": "markdown",
   "metadata": {},
   "source": [
    "# U.S. Medical Insurance Costs\n",
    "**edit histograms to better illustrate cost difference (standardize/align x and y coordinates across different categaries (ages)**"
   ]
  },
  {
   "cell_type": "markdown",
   "metadata": {},
   "source": [
    "## Scoping Your Project\n",
    "What is it that you want to find out about this dataset?\n",
    "<br><br>**Some possible ideas for analysis are the following:**\n",
    "* Is there a correlation between insurance cost and region, age, sex, number of children, bmi?\n",
    "* Find out the average age of the patients in the dataset.\n",
    "* Analyze where a majority of the individuals are from.\n",
    "* [Look at the different costs between smokers vs. non-smokers](#Comparing-Smoker-Data).\n",
    "    * Analyze the `charge` [outliers of non-smokers](#Analyze-the-outliers-from-the-non-smoking-population)\n",
    "* [Figure out what the average age is for someone who has at least one child in this dataset](#Comparing-Number-of-Children).\n",
    "\n",
    "\n",
    "**Main components that you will want to include:**\n",
    "* Goals: analyze data based on:\n",
    "    * [age categories](#Analyzing-age-categories): (1) young adult (18 years), (2) adult (19-33 years), (3) young middle-aged (34-48 years), and (4) middle-aged (49-64 years).\n",
    "    * [bmi ranges](#Comparing-BMI-Ranges): (1) underweight (<18.5), (2) healthy (18.5-24.9), (3) overweight (25.0-29.9), (4) obese (30-39), and (5) extremely obese (>=40).\n",
    "    * number of children\n",
    "* Data\n",
    "* Analysis:\n",
    "    * Smokers:\n",
    "        1. Correlated with insurance charges: on average, smokers are charged >20k dollars more than non-smokers.\n",
    "    * Age:\n",
    "        1. Correlated with insurance charges.\n",
    "    * BMI:\n",
    "        1. Over half of the extremely obese population (55.7%) reside in the southeast region.\n",
    "        2. No correlation with insurance charges.\n",
    "\n",
    "These are just some ideas and we hope they give you a good starting point. As you think of ideas, also consider what the implications of some of the results would be. For example, we may find that this dataset is mainly composed of individuals who have children or that it is imbalanced in terms of representation of males vs. females. Taking information like this into consideration when looking at data can give you sinight into potential use cases as well as where certain biases can impact results."
   ]
  },
  {
   "cell_type": "code",
   "execution_count": 1,
   "metadata": {},
   "outputs": [],
   "source": [
    "import numpy as np\n",
    "from pandas import read_csv\n",
    "import matplotlib.pyplot as plt\n",
    "from decimal import Decimal\n",
    "%matplotlib inline"
   ]
  },
  {
   "cell_type": "markdown",
   "metadata": {},
   "source": [
    "### creating a pandas Data Frame of the CSV file"
   ]
  },
  {
   "cell_type": "code",
   "execution_count": 2,
   "metadata": {},
   "outputs": [],
   "source": [
    "ins = read_csv('insurance.csv')"
   ]
  },
  {
   "cell_type": "markdown",
   "metadata": {},
   "source": [
    "### storing columns of `ins` in variables to visualize data\n",
    "Key findings:\n",
    "* age:\n",
    "    * what percentage of the data make up young adults?\n",
    "        * What regions do they inhabit?\n",
    "        * what does the data look like when we remove 18 and 19 year olds?"
   ]
  },
  {
   "cell_type": "code",
   "execution_count": 3,
   "metadata": {},
   "outputs": [],
   "source": [
    "ages = list(ins.loc[:, 'age'])\n",
    "sexes = list(ins.loc[:, 'sex'])\n",
    "bmis = list(ins.loc[:, 'bmi'])\n",
    "children = list(ins.loc[:, 'children'])\n",
    "smoker = list(ins.loc[:, 'smoker'])\n",
    "region = list(ins.loc[:, 'region'])\n",
    "charges = list(ins.loc[:, 'charges'])"
   ]
  },
  {
   "cell_type": "code",
   "execution_count": 4,
   "metadata": {},
   "outputs": [
    {
     "data": {
      "image/png": "[encoded data removed]",
      "text/plain": [
       "<Figure size 432x288 with 1 Axes>"
      ]
     },
     "metadata": {
      "needs_background": "light"
     },
     "output_type": "display_data"
    }
   ],
   "source": [
    "plt.hist(ages, bins=60);"
   ]
  },
  {
   "cell_type": "code",
   "execution_count": 5,
   "metadata": {},
   "outputs": [],
   "source": [
    "def find_average_age(DataFrame):\n",
    "    total_age = 0\n",
    "    ages = ins.loc[:, 'age']\n",
    "    for age in ages:\n",
    "        total_age+=age\n",
    "    return int(total_age / len(ages))"
   ]
  },
  {
   "cell_type": "code",
   "execution_count": 6,
   "metadata": {},
   "outputs": [
    {
     "data": {
      "text/plain": [
       "39"
      ]
     },
     "execution_count": 6,
     "metadata": {},
     "output_type": "execute_result"
    }
   ],
   "source": [
    "find_average_age(ins)"
   ]
  },
  {
   "cell_type": "code",
   "execution_count": 7,
   "metadata": {},
   "outputs": [],
   "source": [
    "def find_regional_frequency(DataFrame):\n",
    "    region = list(DataFrame.loc[:, 'region'])\n",
    "    regions = {}\n",
    "    \n",
    "    for i in region:\n",
    "        if i not in regions:\n",
    "            regions[i] = 1\n",
    "        else:\n",
    "            regions[i] += 1\n",
    "            \n",
    "    plt.bar(regions.keys(), regions.values())\n",
    "    return None"
   ]
  },
  {
   "cell_type": "code",
   "execution_count": 8,
   "metadata": {},
   "outputs": [
    {
     "data": {
      "image/png": "[encoded data removed]",
      "text/plain": [
       "<Figure size 432x288 with 1 Axes>"
      ]
     },
     "metadata": {
      "needs_background": "light"
     },
     "output_type": "display_data"
    }
   ],
   "source": [
    "find_regional_frequency(ins)"
   ]
  },
  {
   "cell_type": "markdown",
   "metadata": {},
   "source": [
    "## Comparing Smoker Data"
   ]
  },
  {
   "cell_type": "code",
   "execution_count": 9,
   "metadata": {},
   "outputs": [],
   "source": [
    "def compare_smoker(DataFrame):\n",
    "    # index data\n",
    "    charges = list(DataFrame.loc[:, 'charges'])\n",
    "    smokers = list(DataFrame.loc[:, 'smoker'])\n",
    "    # separate data\n",
    "    smoker_list, smoker_dict = list(), dict()\n",
    "    non_smoker_list, non_smoker_dict = list(), dict()\n",
    "    \n",
    "    # loop through 'smokers' column to separate population\n",
    "    for i in range(len(smokers)):\n",
    "        if smokers[i] == 'yes':\n",
    "            smoker_list.append(i)\n",
    "        else:\n",
    "            non_smoker_list.append(i)\n",
    "    \n",
    "    # create DataFrames for separated data\n",
    "    def DataFrameCreation(lists, dicts):\n",
    "        \n",
    "        for i in dicts:\n",
    "            i['age'] = list()\n",
    "            i['sex'] = list()\n",
    "            i['bmi'] = list()\n",
    "            i['children'] = list()\n",
    "            i['smoker'] = list()\n",
    "            i['region'] = list()\n",
    "            i['charges'] = list()\n",
    "        \n",
    "        for i, j in enumerate(lists):\n",
    "            for k in j:\n",
    "                dicts[i]['age'].append(DataFrame.loc[k, 'age'])\n",
    "                dicts[i]['sex'].append(DataFrame.loc[k, 'sex'])\n",
    "                dicts[i]['bmi'].append(DataFrame.loc[k, 'bmi'])\n",
    "                dicts[i]['children'].append(DataFrame.loc[k, 'children'])\n",
    "                dicts[i]['smoker'].append(DataFrame.loc[k, 'smoker']) \n",
    "                dicts[i]['region'].append(DataFrame.loc[k, 'region']) \n",
    "                dicts[i]['charges'].append(DataFrame.loc[k, 'charges'])\n",
    "    # lists, dicts, and function call to create DataFrames\n",
    "    my_lists = [smoker_list, non_smoker_list]\n",
    "    my_dicts = [smoker_dict, non_smoker_dict]          \n",
    "    DataFrameCreation(my_lists, my_dicts)\n",
    "\n",
    "    a = plt.boxplot((non_smoker_dict['charges'], smoker_dict['charges']), showmeans=True, labels=('Non-Smoker', 'Smoker'))\n",
    "    non_smoker_mean = a['means'][0].get_data()[1][0]\n",
    "    smoker_mean = a['means'][1].get_data()[1][0]\n",
    "    print('Total Data points: {}'.format(len(smoker_list) + len(non_smoker_list)))\n",
    "    print('Non-Smoker Data:')\n",
    "    print('\\tsample size: {}'.format(len(non_smoker_list)))\n",
    "    print('\\tmedian: {}'.format(a['medians'][0].get_data()[1][0]))\n",
    "    print('\\tmean: {}'.format(non_smoker_mean))\n",
    "    print('\\tfliers: {}'.format(len(a['fliers'][0].get_data()[0])))\n",
    "    print('Smoker Data:')\n",
    "    print('\\tsample size: {}'.format(len(smoker_list)))\n",
    "    print('\\tmedian: {}'.format(a['medians'][1].get_data()[1][0]))\n",
    "    print('\\tmean: {}'.format(smoker_mean))\n",
    "    print('On average, smokers pay {} dollars more than non-smokers.'.format(smoker_mean - non_smoker_mean))\n",
    "    return smoker_dict, non_smoker_dict"
   ]
  },
  {
   "cell_type": "code",
   "execution_count": 10,
   "metadata": {},
   "outputs": [
    {
     "name": "stdout",
     "output_type": "stream",
     "text": [
      "Total Data points: 1338\n",
      "Non-Smoker Data:\n",
      "\tsample size: 1064\n",
      "\tmedian: 7345.4053\n",
      "\tmean: 8434.268297856204\n",
      "\tfliers: 46\n",
      "Smoker Data:\n",
      "\tsample size: 274\n",
      "\tmedian: 34456.348450000005\n",
      "\tmean: 32050.23183153284\n",
      "On average, smokers pay 23615.963533676637 dollars more than non-smokers.\n"
     ]
    },
    {
     "data": {
      "image/png": "[encoded data removed]",
      "text/plain": [
       "<Figure size 432x288 with 1 Axes>"
      ]
     },
     "metadata": {
      "needs_background": "light"
     },
     "output_type": "display_data"
    }
   ],
   "source": [
    "smoker, non_smoker = compare_smoker(ins);"
   ]
  },
  {
   "cell_type": "markdown",
   "metadata": {},
   "source": [
    "## Analyze the outliers from the non-smoking population"
   ]
  },
  {
   "cell_type": "code",
   "execution_count": 11,
   "metadata": {},
   "outputs": [],
   "source": [
    "def non_smoker_fliers(DataFrame):\n",
    "    \n",
    "    # indexing\n",
    "    charges = list(DataFrame.loc[:, 'charges'])\n",
    "    smokers = list(DataFrame.loc[:, 'smoker'])\n",
    "    \n",
    "    # find index of fliers from DataFrame\n",
    "    outliers = list()\n",
    "    \n",
    "    # dict to convert to DataFrame\n",
    "    outliers_dict = {\n",
    "        'age': list(),\n",
    "        'sex': list(),\n",
    "        'bmi': list(),\n",
    "        'children': list(),\n",
    "        'smoker': list(),\n",
    "        'region': list(),\n",
    "        'charges': list(),\n",
    "    }\n",
    "    \n",
    "    # loop through 'smokers' column to separate population\n",
    "    for i in range(len(smokers)):\n",
    "        if smokers[i] == 'no':\n",
    "            if charges[i] > 22395.74424:\n",
    "                outliers.append(i)\n",
    "    \n",
    "    # updating fliers DataFrame\n",
    "    for i in outliers:\n",
    "        outliers_dict['age'].append(DataFrame.loc[i, 'age'])\n",
    "        outliers_dict['sex'].append(DataFrame.loc[i, 'sex'])\n",
    "        outliers_dict['bmi'].append(DataFrame.loc[i, 'bmi'])\n",
    "        outliers_dict['children'].append(DataFrame.loc[i, 'children'])\n",
    "        outliers_dict['smoker'].append(DataFrame.loc[i, 'smoker']) \n",
    "        outliers_dict['region'].append(DataFrame.loc[i, 'region']) \n",
    "        outliers_dict['charges'].append(DataFrame.loc[i, 'charges']) \n",
    "\n",
    "    return outliers_dict"
   ]
  },
  {
   "cell_type": "code",
   "execution_count": 12,
   "metadata": {},
   "outputs": [],
   "source": [
    "c = non_smoker_fliers(ins) # variable to analyse fliers from non-smoker boxplot"
   ]
  },
  {
   "cell_type": "code",
   "execution_count": 13,
   "metadata": {},
   "outputs": [],
   "source": [
    "def find_average_ages(DataFrame):\n",
    "    children = list(DataFrame.loc[:, 'children'])\n",
    "    no_children_ages = list()\n",
    "    has_children_ages = list()\n",
    "    for i in range(len(children)):\n",
    "        if children[i] >= 1:\n",
    "            has_children_ages.append(DataFrame.loc[i, 'age'])\n",
    "        else:\n",
    "            no_children_ages.append(DataFrame.loc[i, 'age'])\n",
    "    no_children_average = int(sum(no_children_ages) / len(no_children_ages))\n",
    "    has_children_average = int(sum(has_children_ages) / len(has_children_ages))\n",
    "    print('Average age of insured with at least one child: {}'.format(has_children_average))\n",
    "    print('Average age of insured without children: {}'.format(no_children_average))\n",
    "    return None"
   ]
  },
  {
   "cell_type": "code",
   "execution_count": 14,
   "metadata": {},
   "outputs": [
    {
     "name": "stdout",
     "output_type": "stream",
     "text": [
      "Average age of insured with at least one child: 39\n",
      "Average age of insured without children: 38\n"
     ]
    }
   ],
   "source": [
    "find_average_ages(ins)"
   ]
  },
  {
   "cell_type": "markdown",
   "metadata": {},
   "source": [
    "## Analyzing age categories"
   ]
  },
  {
   "cell_type": "code",
   "execution_count": 15,
   "metadata": {},
   "outputs": [],
   "source": [
    "# This function shows a strong correlation between age and insurance cost\n",
    "\"\"\" \n",
    "    age categories:\n",
    "        1. Young Adults: 18 years\n",
    "        2. Adults: 19-33 years\n",
    "        3. Young, Middle-aged: 34-48 years\n",
    "        4. Old, Middle-aged: 49-64 years\n",
    "        5. Senior: 65-78 years\n",
    "        6. Elder: 79-98 years\n",
    "\"\"\"\n",
    "def compare_age_groups_of_non_smokers(DataFrame):\n",
    "    \n",
    "    # indexing data\n",
    "    smokers = list(DataFrame.loc[:, 'smoker'])\n",
    "    ages = list(DataFrame.loc[:, 'age'])\n",
    "    charges = list(DataFrame.loc[:, 'charges'])\n",
    "    \n",
    "    # Young Adults: age < 19\n",
    "    ya, ya_outliers, ya_dict, ya_fliers = list(), list(), dict(), dict()\n",
    "    # Adults: 19 <= age < 34\n",
    "    a, a_outliers, a_dict, a_fliers = list(), list(), dict(), dict()   \n",
    "    # Young, Middle-aged: 34 <= age < 49\n",
    "    yma, yma_outliers, yma_dict, yma_fliers = list(), list(), dict(), dict() \n",
    "    # Middle-aged: 49 <= age < 65\n",
    "    ma, ma_outliers, ma_dict, ma_fliers = list(), list(), dict(), dict() \n",
    "    # Seniors: age >= 65\n",
    "    s, s_outliers, s_dict, s_fliers = list(), list(), dict(), dict() \n",
    "    \n",
    "    # separate ages and find outliers: iterate through smoker, age, and charges\n",
    "    for i in range(len(ages)):\n",
    "        if smokers[i] == 'no':\n",
    "            if ages[i] < 19: # age < 19\n",
    "                ya.append(i)\n",
    "                #if charges[i] > 3597.5959999999995:\n",
    "                #    ya_outliers.append(i)\n",
    "                #else:\n",
    "                #    ya.append(i)\n",
    "            elif ages[i] < 34: # 19 <= age < 34\n",
    "                a.append(i)\n",
    "                #if charges[i] > 7986.47525:\n",
    "                #    a_outliers.append(i)\n",
    "                #else:\n",
    "                #    a.append(i)\n",
    "            elif ages[i] < 49: # 34 <= age < 49\n",
    "                yma.append(i)\n",
    "                #if charges[i] > 15828.821730000001:\n",
    "                #    yma_outliers.append(i)\n",
    "                #else:\n",
    "                #    yma.append(i)\n",
    "            elif ages[i] < 65: # 49 <= age < 65\n",
    "                ma.append(i)\n",
    "                #if charges[i] > 15828.821730000001:\n",
    "                #    ma_outliers.append(i)\n",
    "                #else:\n",
    "                #    ma.append(i)\n",
    "            elif ages[i] >= 65: # age >= 65\n",
    "                s.append(i)\n",
    "                #if charges[i] > 16069.08475:\n",
    "                #    s_outliers.append(i)\n",
    "                #else:\n",
    "                #    s.append(i)\n",
    "                    \n",
    "    # create DataFrames for separated data\n",
    "    def DataFrameCreation(lists, dicts):\n",
    "        \n",
    "        for i in dicts:\n",
    "            i['age'] = list()\n",
    "            i['sex'] = list()\n",
    "            i['bmi'] = list()\n",
    "            i['children'] = list()\n",
    "            i['smoker'] = list()\n",
    "            i['region'] = list()\n",
    "            i['charges'] = list()\n",
    "        \n",
    "        for i, j in enumerate(lists):\n",
    "            for k in j:\n",
    "                dicts[i]['age'].append(DataFrame.loc[k, 'age'])\n",
    "                dicts[i]['sex'].append(DataFrame.loc[k, 'sex'])\n",
    "                dicts[i]['bmi'].append(DataFrame.loc[k, 'bmi'])\n",
    "                dicts[i]['children'].append(DataFrame.loc[k, 'children'])\n",
    "                dicts[i]['smoker'].append(DataFrame.loc[k, 'smoker']) \n",
    "                dicts[i]['region'].append(DataFrame.loc[k, 'region']) \n",
    "                dicts[i]['charges'].append(DataFrame.loc[k, 'charges'])\n",
    "    # lists, dicts, and function call to create DataFrames\n",
    "    my_lists = [ya, ya_outliers, a, a_outliers, yma, yma_outliers, ma, ma_outliers, s, s_outliers]\n",
    "    my_dicts = [ya_dict, ya_fliers, a_dict, a_fliers, yma_dict, yma_fliers, ma_dict, ma_fliers, s_dict, s_fliers]          \n",
    "    DataFrameCreation(my_lists, my_dicts)\n",
    "    # combine all fliers into one dictionary\n",
    "    def combine_fliers(dicts):\n",
    "        return_dict = {}\n",
    "        for i in dicts:\n",
    "            for j, k in i.items():\n",
    "                if j not in return_dict:\n",
    "                    return_dict[j] = k\n",
    "                else:\n",
    "                    return_dict[j]+=k\n",
    "        return return_dict\n",
    "    fliers_dicts = [ya_fliers, a_fliers, yma_fliers, ma_fliers, s_fliers] # fliers from all age groups\n",
    "    fliers = combine_fliers(fliers_dicts)    \n",
    "    \n",
    "    # boxplot to compare charges against varying age groups\n",
    "    cats = (ya_dict['charges'], a_dict['charges'], yma_dict['charges'], ma_dict['charges'], s_dict['charges'], fliers['charges'])\n",
    "    labels = ('<19', '19 - 33', '34 - 48', '49 - 64', '65 - 78', 'NaN')\n",
    "    x = plt.boxplot(cats, showmeans=True, labels=labels)\n",
    "    means = [x['means'][0].get_data()[1][0],    # young adults mean\n",
    "                x['means'][1].get_data()[1][0], # adults mean\n",
    "                x['means'][2].get_data()[1][0], # young middle-aged mean\n",
    "                x['means'][3].get_data()[1][0], # middle-aged mean\n",
    "                x['means'][3].get_data()[1][0], # seniors mean\n",
    "                'NaN']\n",
    "    \n",
    "    # print data to find outliers\n",
    "    def print_data(labels, cats, means):\n",
    "        total_data_points = 0\n",
    "        for i in range(len(cats)):\n",
    "            total_data_points+=len(cats[i])\n",
    "        print('Total Data points: {}'.format(total_data_points))\n",
    "        for i, j in enumerate(zip(labels, cats)):\n",
    "            print('Age {}:'.format(j[0]))\n",
    "            print('\\tsample size: {}'.format(len(j[1])))\n",
    "            print('\\tmedian: {}'.format(x['medians'][i].get_data()[1][0]))\n",
    "            print('\\tmean: {}'.format(means[i]))\n",
    "            print('\\tnumber of fliers: {}'.format(len(x['fliers'][i].get_data()[0])))\n",
    "            print('\\tupper-cap: {}'.format(list(x['caps'][(i*2)+1].get_data()[1])[0]))\n",
    "    print_data(labels, cats, means)\n",
    "    \n",
    "    return fliers, ya_dict, a_dict, yma_dict, ma_dict, s_dict  # returns a dictionary of fliers data"
   ]
  },
  {
   "cell_type": "code",
   "execution_count": 16,
   "metadata": {},
   "outputs": [
    {
     "name": "stdout",
     "output_type": "stream",
     "text": [
      "Total Data points: 1064\n",
      "Age <19:\n",
      "\tsample size: 57\n",
      "\tmedian: 1712.227\n",
      "\tmean: 3215.1622585789473\n",
      "\tnumber of fliers: 10\n",
      "\tupper-cap: 2801.2588\n",
      "Age 19 - 33:\n",
      "\tsample size: 355\n",
      "\tmedian: 3410.324\n",
      "\tmean: 4851.941953774648\n",
      "\tnumber of fliers: 34\n",
      "\tupper-cap: 6799.4580000000005\n",
      "Age 34 - 48:\n",
      "\tsample size: 311\n",
      "\tmedian: 7265.7025\n",
      "\tmean: 8251.52108125402\n",
      "\tnumber of fliers: 23\n",
      "\tupper-cap: 11737.84884\n",
      "Age 49 - 64:\n",
      "\tsample size: 341\n",
      "\tmedian: 11848.141000000001\n",
      "\tmean: 13202.741261935484\n",
      "\tnumber of fliers: 34\n",
      "\tupper-cap: 16455.70785\n",
      "Age 65 - 78:\n",
      "\tsample size: 0\n",
      "\tmedian: nan\n",
      "\tmean: 13202.741261935484\n",
      "\tnumber of fliers: 0\n",
      "\tupper-cap: nan\n",
      "Age NaN:\n",
      "\tsample size: 0\n",
      "\tmedian: nan\n",
      "\tmean: NaN\n",
      "\tnumber of fliers: 0\n",
      "\tupper-cap: nan\n"
     ]
    },
    {
     "data": {
      "image/png": "[encoded data removed]",
      "text/plain": [
       "<Figure size 432x288 with 1 Axes>"
      ]
     },
     "metadata": {
      "needs_background": "light"
     },
     "output_type": "display_data"
    }
   ],
   "source": [
    "fliers, young_adults, adults, young_middle_aged, middle_aged, seniors  = compare_age_groups_of_non_smokers(ins);"
   ]
  },
  {
   "cell_type": "code",
   "execution_count": 17,
   "metadata": {},
   "outputs": [
    {
     "data": {
      "image/png": "[encoded data removed]",
      "text/plain": [
       "<Figure size 432x288 with 1 Axes>"
      ]
     },
     "metadata": {
      "needs_background": "light"
     },
     "output_type": "display_data"
    }
   ],
   "source": [
    "plt.hist(young_adults['charges'], bins=len(adults['charges']));\n",
    "plt.xlim(0, 17000);\n",
    "plt.ylim(0, 25);"
   ]
  },
  {
   "cell_type": "code",
   "execution_count": 18,
   "metadata": {},
   "outputs": [
    {
     "data": {
      "image/png": "[encoded data removed]",
      "text/plain": [
       "<Figure size 432x288 with 1 Axes>"
      ]
     },
     "metadata": {
      "needs_background": "light"
     },
     "output_type": "display_data"
    }
   ],
   "source": [
    "plt.hist(adults['charges'], bins=len(adults['charges']));\n",
    "plt.xlim(0, 17000);\n",
    "plt.ylim(0, 25);"
   ]
  },
  {
   "cell_type": "code",
   "execution_count": 19,
   "metadata": {},
   "outputs": [
    {
     "data": {
      "image/png": "[encoded data removed]",
      "text/plain": [
       "<Figure size 432x288 with 1 Axes>"
      ]
     },
     "metadata": {
      "needs_background": "light"
     },
     "output_type": "display_data"
    }
   ],
   "source": [
    "plt.hist(young_middle_aged['charges'], bins=len(young_middle_aged['charges']));\n",
    "plt.xlim(0, 17000);\n",
    "plt.ylim(0, 25);"
   ]
  },
  {
   "cell_type": "code",
   "execution_count": 20,
   "metadata": {},
   "outputs": [
    {
     "data": {
      "image/png": "[encoded data removed]",
      "text/plain": [
       "<Figure size 432x288 with 1 Axes>"
      ]
     },
     "metadata": {
      "needs_background": "light"
     },
     "output_type": "display_data"
    }
   ],
   "source": [
    "plt.hist(middle_aged['charges'], bins=len(middle_aged['charges']));\n",
    "plt.xlim(0, 17000);\n",
    "plt.ylim(0, 25);"
   ]
  },
  {
   "cell_type": "markdown",
   "metadata": {},
   "source": [
    "## Comparing Number of Children"
   ]
  },
  {
   "cell_type": "code",
   "execution_count": 21,
   "metadata": {},
   "outputs": [],
   "source": [
    "# This function shows no correlation between number of children and insurance cost\n",
    "def compare_number_of_children(DataFrame):\n",
    "    \n",
    "    # indexing data\n",
    "    smokers = list(DataFrame.loc[:, 'smoker'])\n",
    "    children = list(DataFrame.loc[:, 'children'])\n",
    "    charges = list(DataFrame.loc[:, 'charges'])\n",
    "    \n",
    "    # Zero Children:\n",
    "    zero, zero_outliers, zero_dict, zero_fliers = list(), list(), dict(), dict()\n",
    "    # One Child:\n",
    "    one, one_outliers, one_dict, one_fliers = list(), list(), dict(), dict()   \n",
    "    # Two Children: \n",
    "    two, two_outliers, two_dict, two_fliers = list(), list(), dict(), dict()    \n",
    "    # Three Children:\n",
    "    three, three_outliers, three_dict, three_fliers = list(), list(), dict(), dict() \n",
    "    # Four Children:\n",
    "    four, four_outliers, four_dict, four_fliers = list(), list(), dict(), dict()\n",
    "    # Five Children:\n",
    "    five, five_outliers, five_dict, five_fliers = list(), list(), dict(), dict()\n",
    "    \n",
    "    \n",
    "    # separate by number of children: iterate through smoker, children, and charges\n",
    "    for i in range(len(ages)):\n",
    "        if type(smokers[i]) == str:\n",
    "            if children[i] == 0: # no children\n",
    "                zero.append(i)\n",
    "                # if charges[i] > 3597.5959999999995:\n",
    "                #     ya_outliers.append(i)\n",
    "                # else:\n",
    "                #     ya.append(i)\n",
    "            elif children[i] == 1: # one child\n",
    "                one.append(i)\n",
    "                #  if charges[i] > 17626.23951:\n",
    "                #     one_outliers.append(i)\n",
    "                # else:\n",
    "                #     one.append(i)\n",
    "            elif children[i] == 2: # two children\n",
    "                two.append(i)\n",
    "                # if charges[i] > 20177.671130000002:\n",
    "                #     two_outliers.append(i)\n",
    "                # else:\n",
    "                #     two.append(i)\n",
    "            elif children[i] == 3: # three children\n",
    "                three.append(i)\n",
    "                # if charges[i] > 20462.99766:\n",
    "                #     three_outliers.append(i)\n",
    "                # else:\n",
    "                #     three.append(i)\n",
    "            elif children[i] == 4: # four children\n",
    "                four.append(i)\n",
    "                # if charges[i] > 19496.71917:\n",
    "                #     four_outliers.append(i)\n",
    "                # else:\n",
    "                #     four.append(i)\n",
    "            else: # five children\n",
    "                five.append(i)\n",
    "                    \n",
    "    # create DataFrames for separated data\n",
    "    def DataFrameCreation(lists, dicts):\n",
    "        \n",
    "        for i in dicts:\n",
    "            i['age'] = list()\n",
    "            i['sex'] = list()\n",
    "            i['bmi'] = list()\n",
    "            i['children'] = list()\n",
    "            i['smoker'] = list()\n",
    "            i['region'] = list()\n",
    "            i['charges'] = list()\n",
    "        \n",
    "        for i, j in enumerate(lists):\n",
    "            for k in j:\n",
    "                dicts[i]['age'].append(DataFrame.loc[k, 'age'])\n",
    "                dicts[i]['sex'].append(DataFrame.loc[k, 'sex'])\n",
    "                dicts[i]['bmi'].append(DataFrame.loc[k, 'bmi'])\n",
    "                dicts[i]['children'].append(DataFrame.loc[k, 'children'])\n",
    "                dicts[i]['smoker'].append(DataFrame.loc[k, 'smoker']) \n",
    "                dicts[i]['region'].append(DataFrame.loc[k, 'region']) \n",
    "                dicts[i]['charges'].append(DataFrame.loc[k, 'charges'])\n",
    "    # lists, dicts, and function call to create DataFrames\n",
    "    my_lists = [zero, zero_outliers, one, one_outliers, two, two_outliers, three, three_outliers, four, four_outliers, five, five_outliers]\n",
    "    my_dicts = [zero_dict, zero_fliers, one_dict, one_fliers, two_dict, two_fliers, three_dict, three_fliers, four_dict, four_fliers, five_dict, five_fliers]          \n",
    "    DataFrameCreation(my_lists, my_dicts)\n",
    "    # combine all fliers into one dictionary\n",
    "    def combine_fliers(dicts):\n",
    "        return_dict = {}\n",
    "        for i in dicts:\n",
    "            for j, k in i.items():\n",
    "                if j not in return_dict:\n",
    "                    return_dict[j] = k\n",
    "                else:\n",
    "                    return_dict[j]+=k\n",
    "        return return_dict\n",
    "    fliers_dicts = [zero_fliers, one_fliers, two_fliers, three_fliers, four_fliers, five_fliers] # fliers from all age groups\n",
    "    fliers = combine_fliers(fliers_dicts)    \n",
    "    \n",
    "    # boxplot to compare charges against varying age groups\n",
    "    cats = (zero_dict['charges'], one_dict['charges'], two_dict['charges'], three_dict['charges'], four_dict['charges'], five_dict['charges'], fliers['charges'])\n",
    "    labels = ('Zero', 'One', 'Two', 'Three', 'Four', 'Five', 'NaN')\n",
    "    x = plt.boxplot(cats, showmeans=True, labels=labels)\n",
    "    means = [x['means'][0].get_data()[1][0], # no children mean\n",
    "        x['means'][1].get_data()[1][0], # one child mean\n",
    "        x['means'][2].get_data()[1][0], # two children mean\n",
    "        x['means'][3].get_data()[1][0], # three children mean\n",
    "        x['means'][4].get_data()[1][0], # four children mean\n",
    "        x['means'][3].get_data()[1][0], # five children mean\n",
    "        'NaN']\n",
    "    \n",
    "    # print data to find outliers\n",
    "    def print_data(labels, cats, means):\n",
    "        total_data_points = 0\n",
    "        for i in range(len(cats)):\n",
    "            total_data_points+=len(cats[i])\n",
    "        print('Total Data points: {}'.format(total_data_points))\n",
    "        for i, j in enumerate(zip(labels, cats)):\n",
    "            print('Number of children {}:'.format(j[0]))\n",
    "            print('\\tsample size: {}'.format(len(j[1])))\n",
    "            print('\\tmedian: {}'.format(x['medians'][i].get_data()[1][0]))\n",
    "            print('\\tmean: {}'.format(means[i]))\n",
    "            print('\\tnumber of fliers: {}'.format(len(x['fliers'][i].get_data()[0])))\n",
    "            print('\\tupper-cap: {}'.format(list(x['caps'][(i*2)+1].get_data()[1])[0]))\n",
    "    print_data(labels, cats, means)\n",
    "    \n",
    "    return fliers, zero_dict, one_dict, two_dict, three_dict, four_dict, five_dict  # returns a dictionary of fliers data"
   ]
  },
  {
   "cell_type": "code",
   "execution_count": 22,
   "metadata": {},
   "outputs": [
    {
     "name": "stdout",
     "output_type": "stream",
     "text": [
      "Total Data points: 1338\n",
      "Number of children Zero:\n",
      "\tsample size: 574\n",
      "\tmedian: 9856.9519\n",
      "\tmean: 12365.97560163589\n",
      "\tnumber of fliers: 63\n",
      "\tupper-cap: 30259.995560000003\n",
      "Number of children One:\n",
      "\tsample size: 324\n",
      "\tmedian: 8483.870149999999\n",
      "\tmean: 12731.171831635802\n",
      "\tnumber of fliers: 32\n",
      "\tupper-cap: 31620.001060000002\n",
      "Number of children Two:\n",
      "\tsample size: 240\n",
      "\tmedian: 9264.97915\n",
      "\tmean: 15073.563733958332\n",
      "\tnumber of fliers: 19\n",
      "\tupper-cap: 40103.89\n",
      "Number of children Three:\n",
      "\tsample size: 157\n",
      "\tmedian: 10600.5483\n",
      "\tmean: 15355.318366815283\n",
      "\tnumber of fliers: 16\n",
      "\tupper-cap: 37465.34375\n",
      "Number of children Four:\n",
      "\tsample size: 25\n",
      "\tmedian: 11033.6617\n",
      "\tmean: 13850.6563112\n",
      "\tnumber of fliers: 2\n",
      "\tupper-cap: 24671.66334\n",
      "Number of children Five:\n",
      "\tsample size: 18\n",
      "\tmedian: 8589.56505\n",
      "\tmean: 15355.318366815283\n",
      "\tnumber of fliers: 1\n",
      "\tupper-cap: 14478.33015\n",
      "Number of children NaN:\n",
      "\tsample size: 0\n",
      "\tmedian: nan\n",
      "\tmean: NaN\n",
      "\tnumber of fliers: 0\n",
      "\tupper-cap: nan\n"
     ]
    },
    {
     "data": {
      "image/png": "[encoded data removed]",
      "text/plain": [
       "<Figure size 432x288 with 1 Axes>"
      ]
     },
     "metadata": {
      "needs_background": "light"
     },
     "output_type": "display_data"
    }
   ],
   "source": [
    "children_fliers, no_children, one_child, two_children, three_children, four_children, five_children = compare_number_of_children(ins)"
   ]
  },
  {
   "cell_type": "markdown",
   "metadata": {},
   "source": [
    "## Comparing BMI Ranges"
   ]
  },
  {
   "cell_type": "code",
   "execution_count": 23,
   "metadata": {},
   "outputs": [],
   "source": [
    "# This function shows a strong correlation between age and insurance cost\n",
    "\"\"\" \n",
    "    * bmi ranges:\n",
    "        1. underweight (<18.5)\n",
    "        2. healthy (18.5-24.9)\n",
    "        3. overweight (25.0-29.9)\n",
    "        4. obese (30-39)\n",
    "        5. extremely obese (>=40)\n",
    "\"\"\"\n",
    "def compare_bmi_groups_of_non_smokers(DataFrame):\n",
    "    \n",
    "    # indexing data\n",
    "    smokers = list(DataFrame.loc[:, 'smoker'])\n",
    "    bmis = list(DataFrame.loc[:, 'bmi'])\n",
    "    charges = list(DataFrame.loc[:, 'charges']) # comparing outliers\n",
    "    \n",
    "    # underweight: bmi < 18.5\n",
    "    uw, uw_outliers, uw_dict, uw_fliers = list(), list(), dict(), dict()\n",
    "    # healthy: 18.5 <= bmi < 25\n",
    "    h, h_outliers, h_dict, h_fliers = list(), list(), dict(), dict()   \n",
    "    # overweight: 25 <= bmi < 30\n",
    "    ow, ow_outliers, ow_dict, ow_fliers = list(), list(), dict(), dict() \n",
    "    # obese: 30 <= bmi < 40\n",
    "    o, o_outliers, o_dict, o_fliers = list(), list(), dict(), dict() \n",
    "    # extremely obese: bmi >= 40\n",
    "    eo, eo_outliers, eo_dict, eo_fliers = list(), list(), dict(), dict() \n",
    "    \n",
    "    # separate ages and find outliers: iterate through smoker, age, and charges\n",
    "    for i in range(len(bmis)):\n",
    "        if smokers[i] == 'no':\n",
    "            if bmis[i] < 18.5: # underweight\n",
    "                uw.append(i)\n",
    "                #if charges[i] > 3597.5959999999995:\n",
    "                #    uw_outliers.append(i)\n",
    "                #else:\n",
    "                #    uw.append(i)\n",
    "            elif bmis[i] < 25: # healthy\n",
    "                h.append(i)\n",
    "                #if charges[i] > 7986.47525:\n",
    "                #    h_outliers.append(i)\n",
    "                #else:\n",
    "                #    h.append(i)\n",
    "            elif bmis[i] < 30: # overweight\n",
    "                ow.append(i)\n",
    "                #if charges[i] > 15828.821730000001:\n",
    "                #    ow_outliers.append(i)\n",
    "                #else:\n",
    "                #    ow.append(i)\n",
    "            elif bmis[i] < 40: # obese\n",
    "                o.append(i)\n",
    "                #if charges[i] > 15828.821730000001:\n",
    "                #    o_outliers.append(i)\n",
    "                #else:\n",
    "                #    o.append(i)\n",
    "            elif bmis[i] >= 40: # extremely obese\n",
    "                eo.append(i)\n",
    "                #if charges[i] > 16069.08475:\n",
    "                #    eo_outliers.append(i)\n",
    "                #else:\n",
    "                #    eo.append(i)\n",
    "                    \n",
    "    # create DataFrames for separated data\n",
    "    def DataFrameCreation(lists, dicts):\n",
    "        \n",
    "        for i in dicts:\n",
    "            i['age'] = list()\n",
    "            i['sex'] = list()\n",
    "            i['bmi'] = list()\n",
    "            i['children'] = list()\n",
    "            i['smoker'] = list()\n",
    "            i['region'] = list()\n",
    "            i['charges'] = list()\n",
    "        \n",
    "        for i, j in enumerate(lists):\n",
    "            for k in j:\n",
    "                dicts[i]['age'].append(DataFrame.loc[k, 'age'])\n",
    "                dicts[i]['sex'].append(DataFrame.loc[k, 'sex'])\n",
    "                dicts[i]['bmi'].append(DataFrame.loc[k, 'bmi'])\n",
    "                dicts[i]['children'].append(DataFrame.loc[k, 'children'])\n",
    "                dicts[i]['smoker'].append(DataFrame.loc[k, 'smoker']) \n",
    "                dicts[i]['region'].append(DataFrame.loc[k, 'region']) \n",
    "                dicts[i]['charges'].append(DataFrame.loc[k, 'charges'])\n",
    "    # lists, dicts, and function call to create DataFrames\n",
    "    my_lists = [uw, uw_outliers, h, h_outliers, ow, ow_outliers, o, o_outliers, eo, eo_outliers]\n",
    "    my_dicts = [uw_dict, uw_fliers, h_dict, h_fliers, ow_dict, ow_fliers, o_dict, o_fliers, eo_dict, eo_fliers]          \n",
    "    DataFrameCreation(my_lists, my_dicts)\n",
    "    # combine all fliers into one dictionary\n",
    "    def combine_fliers(dicts):\n",
    "        return_dict = {}\n",
    "        for i in dicts:\n",
    "            for j, k in i.items():\n",
    "                if j not in return_dict:\n",
    "                    return_dict[j] = k\n",
    "                else:\n",
    "                    return_dict[j]+=k\n",
    "        return return_dict\n",
    "    fliers_dicts = [uw_fliers, h_fliers, ow_fliers, o_fliers, eo_fliers] # fliers from all age groups\n",
    "    fliers = combine_fliers(fliers_dicts)    \n",
    "    \n",
    "    # boxplot to compare charges against varying age groups\n",
    "    cats = (uw_dict['charges'], h_dict['charges'], ow_dict['charges'], o_dict['charges'], eo_dict['charges'], fliers['charges'])\n",
    "    labels = ('Underweight', 'Healthy', 'Overweight', 'Obese', 'Extremely Obese', 'NaN')\n",
    "    x = plt.boxplot(cats, showmeans=True, labels=labels)\n",
    "    means = [x['means'][0].get_data()[1][0],    # underweight mean\n",
    "                x['means'][1].get_data()[1][0], # healthy mean\n",
    "                x['means'][2].get_data()[1][0], # overweight mean\n",
    "                x['means'][3].get_data()[1][0], # obese mean\n",
    "                x['means'][3].get_data()[1][0], # extremely obese mean\n",
    "                'NaN']\n",
    "    \n",
    "    # print data to find outliers\n",
    "    def print_data(labels, cats, means):\n",
    "        total_data_points = 0\n",
    "        for i in range(len(cats)):\n",
    "            total_data_points+=len(cats[i])\n",
    "        print('Total Data points: {}'.format(total_data_points))\n",
    "        for i, j in enumerate(zip(labels, cats)):\n",
    "            print('{}:'.format(j[0]))\n",
    "            print('\\tsample size: {}'.format(len(j[1])))\n",
    "            print('\\tmedian: {}'.format(x['medians'][i].get_data()[1][0]))\n",
    "            print('\\tmean: {}'.format(means[i]))\n",
    "            print('\\tnumber of fliers: {}'.format(len(x['fliers'][i].get_data()[0])))\n",
    "            print('\\tupper-cap: {}'.format(list(x['caps'][(i*2)+1].get_data()[1])[0]))\n",
    "    print_data(labels, cats, means)\n",
    "    \n",
    "    return fliers, uw_dict, h_dict, ow_dict, o_dict, eo_dict  # returns a dictionary of fliers data"
   ]
  },
  {
   "cell_type": "code",
   "execution_count": 24,
   "metadata": {},
   "outputs": [
    {
     "name": "stdout",
     "output_type": "stream",
     "text": [
      "Total Data points: 1064\n",
      "Underweight:\n",
      "\tsample size: 15\n",
      "\tmedian: 3732.6251\n",
      "\tmean: 5532.992453333335\n",
      "\tnumber of fliers: 0\n",
      "\tupper-cap: 13204.28565\n",
      "Healthy:\n",
      "\tsample size: 175\n",
      "\tmedian: 6593.5083\n",
      "\tmean: 7685.656014000002\n",
      "\tnumber of fliers: 11\n",
      "\tupper-cap: 17626.23951\n",
      "Overweight:\n",
      "\tsample size: 312\n",
      "\tmedian: 7063.9157\n",
      "\tmean: 8257.961954996794\n",
      "\tnumber of fliers: 14\n",
      "\tupper-cap: 21232.182259999998\n",
      "Obese:\n",
      "\tsample size: 492\n",
      "\tmedian: 8116.474425\n",
      "\tmean: 8937.024683008129\n",
      "\tnumber of fliers: 21\n",
      "\tupper-cap: 23082.95533\n",
      "Extremely Obese:\n",
      "\tsample size: 70\n",
      "\tmedian: 7727.467125\n",
      "\tmean: 8937.024683008129\n",
      "\tnumber of fliers: 2\n",
      "\tupper-cap: 20709.02034\n",
      "NaN:\n",
      "\tsample size: 0\n",
      "\tmedian: nan\n",
      "\tmean: NaN\n",
      "\tnumber of fliers: 0\n",
      "\tupper-cap: nan\n"
     ]
    },
    {
     "data": {
      "image/png": "[encoded data removed]",
      "text/plain": [
       "<Figure size 432x288 with 1 Axes>"
      ]
     },
     "metadata": {
      "needs_background": "light"
     },
     "output_type": "display_data"
    }
   ],
   "source": [
    "bmi_fliers, underweight, healthy, overweight, obese, extremely_obese = compare_bmi_groups_of_non_smokers(ins);"
   ]
  },
  {
   "cell_type": "code",
   "execution_count": 25,
   "metadata": {},
   "outputs": [
    {
     "data": {
      "image/png": "[encoded data removed]",
      "text/plain": [
       "<Figure size 432x288 with 1 Axes>"
      ]
     },
     "metadata": {
      "needs_background": "light"
     },
     "output_type": "display_data"
    }
   ],
   "source": [
    "plt.hist(underweight['charges'], bins=len(underweight['charges']));\n",
    "plt.xlim(0, 40000);\n",
    "plt.ylim(0, 12);"
   ]
  },
  {
   "cell_type": "code",
   "execution_count": 26,
   "metadata": {},
   "outputs": [
    {
     "data": {
      "image/png": "[encoded data removed]",
      "text/plain": [
       "<Figure size 432x288 with 1 Axes>"
      ]
     },
     "metadata": {
      "needs_background": "light"
     },
     "output_type": "display_data"
    }
   ],
   "source": [
    "plt.hist(healthy['charges'], bins=len(healthy['charges']));\n",
    "plt.xlim(0, 40000);\n",
    "plt.ylim(0, 12);"
   ]
  },
  {
   "cell_type": "code",
   "execution_count": 27,
   "metadata": {},
   "outputs": [
    {
     "data": {
      "image/png": "[encoded data removed]",
      "text/plain": [
       "<Figure size 432x288 with 1 Axes>"
      ]
     },
     "metadata": {
      "needs_background": "light"
     },
     "output_type": "display_data"
    }
   ],
   "source": [
    "plt.hist(overweight['charges'], bins=len(overweight['charges']));\n",
    "plt.xlim(0, 40000);\n",
    "plt.ylim(0, 12);"
   ]
  },
  {
   "cell_type": "code",
   "execution_count": 28,
   "metadata": {},
   "outputs": [
    {
     "data": {
      "image/png": "[encoded data removed]",
      "text/plain": [
       "<Figure size 432x288 with 1 Axes>"
      ]
     },
     "metadata": {
      "needs_background": "light"
     },
     "output_type": "display_data"
    }
   ],
   "source": [
    "plt.hist(obese['charges'], bins=len(obese['charges']));\n",
    "plt.xlim(0, 40000);\n",
    "plt.ylim(0, 12);"
   ]
  },
  {
   "cell_type": "code",
   "execution_count": 29,
   "metadata": {},
   "outputs": [
    {
     "data": {
      "image/png": "[encoded data removed]",
      "text/plain": [
       "<Figure size 432x288 with 1 Axes>"
      ]
     },
     "metadata": {
      "needs_background": "light"
     },
     "output_type": "display_data"
    }
   ],
   "source": [
    "plt.hist(extremely_obese['charges'], bins=len(extremely_obese['charges']));\n",
    "plt.xlim(0, 40000);\n",
    "plt.ylim(0, 12);"
   ]
  },
  {
   "cell_type": "code",
   "execution_count": 30,
   "metadata": {},
   "outputs": [
    {
     "name": "stdout",
     "output_type": "stream",
     "text": [
      "0.2814645308924485\n"
     ]
    },
    {
     "data": {
      "image/png": "[encoded data removed]",
      "text/plain": [
       "<Figure size 432x288 with 1 Axes>"
      ]
     },
     "metadata": {
      "needs_background": "light"
     },
     "output_type": "display_data"
    }
   ],
   "source": [
    "x = extremely_obese['region']\n",
    "y = obese['region']\n",
    "z = overweight['region']\n",
    "yse = y.count('southeast')\n",
    "xse = x.count('southeast')\n",
    "zse = z.count('southeast')\n",
    "print((xse + yse + zse)/(len(x) + len(y) + len(z)))\n",
    "plt.hist((x, y, z), stacked=True);"
   ]
  },
  {
   "cell_type": "code",
   "execution_count": null,
   "metadata": {},
   "outputs": [],
   "source": []
  }
 ],
 "metadata": {
  "kernelspec": {
   "display_name": "Python 3",
   "language": "python",
   "name": "python3"
  },
  "language_info": {
   "codemirror_mode": {
    "name": "ipython",
    "version": 3
   },
   "file_extension": ".py",
   "mimetype": "text/x-python",
   "name": "python",
   "nbconvert_exporter": "python",
   "pygments_lexer": "ipython3",
   "version": "3.7.4"
  }
 },
 "nbformat": 4,
 "nbformat_minor": 4
}
